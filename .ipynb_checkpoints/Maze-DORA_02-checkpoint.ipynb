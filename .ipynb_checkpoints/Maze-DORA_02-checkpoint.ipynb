{
 "cells": [
  {
   "cell_type": "markdown",
   "metadata": {},
   "source": [
    "# Imports"
   ]
  },
  {
   "cell_type": "code",
   "execution_count": 2,
   "metadata": {},
   "outputs": [],
   "source": [
    "# Imports\n",
    "import pickle\n",
    "import numpy as np\n",
    "from matplotlib.pyplot import cm\n",
    "from matplotlib import pyplot as plt\n",
    "from matplotlib import patches\n",
    "from copy import deepcopy\n",
    "import plotly.graph_objects as go\n",
    "from scipy.optimize import curve_fit\n",
    "from dataclasses import make_dataclass\n",
    "\n",
    "import sys\n",
    "module_path = 'code' \n",
    "if module_path not in sys.path:\n",
    "    sys.path.append(module_path)\n",
    "    \n",
    "np.set_printoptions(threshold=sys.maxsize)\n",
    "\n",
    "\n",
    "# Markus's code\n",
    "from MM_Plot_Utils import plot, hist\n",
    "from MM_Maze_Utils import *\n",
    "from MM_Traj_Utils import *\n",
    "\n",
    "%matplotlib inline\n",
    "%reload_ext autoreload\n",
    "%autoreload 2"
   ]
  },
  {
   "cell_type": "markdown",
   "metadata": {},
   "source": [
    "# Initialize Data"
   ]
  },
  {
   "cell_type": "code",
   "execution_count": 3,
   "metadata": {},
   "outputs": [],
   "source": [
    "UnrewNames=['B5','B6','B7','D3','D4','D5','D6','D7','D8','D9']\n",
    "RewNames=['B1','B2','B3','B4','C1','C3','C6','C7','C8','C9']\n",
    "UnrewNamesSub=['B5','B6','B7','D3','D4','D5','D7','D8','D9'] # excluding D6 which barely entered the maze\n",
    "AllNames=RewNames+UnrewNames"
   ]
  },
  {
   "cell_type": "markdown",
   "metadata": {},
   "source": [
    "# Helper Functions"
   ]
  },
  {
   "cell_type": "markdown",
   "metadata": {},
   "source": [
    "## Maze and Trajectories"
   ]
  },
  {
   "cell_type": "code",
   "execution_count": 4,
   "metadata": {},
   "outputs": [],
   "source": [
    "def ModeMask(tf,ma,re):\n",
    "    '''\n",
    "    Creates an array that parallels the bouts in tf giving the behavioral mode for every state\n",
    "    0=home,1=drink,2=explore\n",
    "    '''\n",
    "    cl=SplitModeClips(tf,ma,re=True) # split the trajectory into mode clips\n",
    "    ex=[np.zeros(len(b)) for b in tf.no] # list of arrays, one for each bout\n",
    "    for c in cl: # for each clip\n",
    "        ex[c[0]][c[1]:c[1]+c[2]]=c[3] # mark the states in the clip with the mode\n",
    "    return ex"
   ]
  },
  {
   "cell_type": "code",
   "execution_count": 50,
   "metadata": {},
   "outputs": [],
   "source": [
    "def NewTransMatrix(ma):\n",
    "    '''\n",
    "    Add node 127 to trans matrix\n",
    "    '''\n",
    "    tra = TransMatrix(ma)\n",
    "    tra = np.append(tra,[[-1,0,0]],axis=0)\n",
    "    return tra"
   ]
  },
  {
   "cell_type": "markdown",
   "metadata": {},
   "source": [
    "## Initialization"
   ]
  },
  {
   "cell_type": "markdown",
   "metadata": {},
   "source": [
    "A **state** is a tuple $(sn,sd)$ where $sn$ is the number of the state node, and $sd$ is the direction from which we have arrived to the state, as follows:\n",
    "* 0: from parent\n",
    "* 1: from left\n",
    "* 2: from right\n",
    "\n",
    "An **action** is a number indicating the action, as follows:\n",
    "* 0: parent\n",
    "* 1: left\n",
    "* 2: right\n",
    "\n",
    "The actions in the original code are numbered:\n",
    "* 0: left\n",
    "* 1: right\n",
    "* 2: parent\n",
    "\n",
    "$TranslateAction$ converts the original action codes to our action codes.\n",
    "\n",
    "The action is viewed by the code as from state $(sn,0)$, in order to translate it to the action appropriate for the direction, we use $(sd + a) \\text{ mod } 3$."
   ]
  },
  {
   "cell_type": "code",
   "execution_count": 7,
   "metadata": {},
   "outputs": [],
   "source": [
    "def TranslateAction(action):\n",
    "    '''\n",
    "    Translate action from original action code to our action code\n",
    "    '''\n",
    "    if (action == -1):\n",
    "        return -1\n",
    "    else:\n",
    "        return (action + 1) % 3"
   ]
  },
  {
   "cell_type": "code",
   "execution_count": 89,
   "metadata": {},
   "outputs": [],
   "source": [
    "def ConvertNodesToStatesActions(da,sta,ma):\n",
    "    '''\n",
    "    Convert node sequence to ((sn,sd),action) format\n",
    "    da = node list\n",
    "    sta = node child matrix\n",
    "    ma = maze\n",
    "    '''\n",
    "    newda=[((0,0),da[1])]\n",
    "    for i,node in enumerate(da[1:],1):\n",
    "        prevnode = da[i-1]\n",
    "        nextnode = 0\n",
    "        if i < len(da)-1:\n",
    "            nextnode = da[i+1]\n",
    "            \n",
    "        pst = TranslateAction(StepType2(prevnode, node, ma)) # previous step type from MM_Maze_Utils\n",
    "        nst = TranslateAction(StepType2(node, nextnode, ma)) # step type from MM_Maze_Utils\n",
    "        \n",
    "        sd = 0 # step direction is 0 if not back to parent\n",
    "        if pst == 0: # back to parent\n",
    "            sd = np.where(sta[node] == prevnode)[0][0] # check from which direction\n",
    "        \n",
    "        state = (node,sd)\n",
    "        action = nst\n",
    "        newda.append((state,action))\n",
    "        \n",
    "    return newda"
   ]
  },
  {
   "cell_type": "markdown",
   "metadata": {},
   "source": [
    "$E$ matrix built as:\n",
    "```\n",
    "[\n",
    "    [ # i = node number\n",
    "        [parent (back), left, right] # From parent\n",
    "        [parent (right), left (back), right (forward)] # From left\n",
    "        [parent (left), left (forward), right (back)] # From right\n",
    "    ]\n",
    "]\n",
    "```"
   ]
  },
  {
   "cell_type": "code",
   "execution_count": 9,
   "metadata": {},
   "outputs": [],
   "source": [
    "def GetValue(E,state,action):\n",
    "    '''\n",
    "    return E(s,a)\n",
    "    state = (sn,sd)\n",
    "    action = 0 - back, 1 - left, 2 - right\n",
    "    '''\n",
    "    return E[state[0]][state[1]][action]"
   ]
  },
  {
   "cell_type": "code",
   "execution_count": 222,
   "metadata": {},
   "outputs": [],
   "source": [
    "def FlattenHist(hist):\n",
    "    '''\n",
    "    Flatten hist where hist is an array of tuples (state,action) and return only state nodes\n",
    "    '''\n",
    "    return [x[0][0] for x in hist]"
   ]
  },
  {
   "cell_type": "code",
   "execution_count": 223,
   "metadata": {},
   "outputs": [],
   "source": [
    "def FlattenBHist(hist):\n",
    "    '''\n",
    "    flatten bhist and return list of only state nodes with different array of nodes for each beta\n",
    "    '''\n",
    "    fhist = []\n",
    "    for brow in hist[:,-1]:\n",
    "        rhist = []\n",
    "        for row in brow:\n",
    "            rhist.extend(FlattenHist(row))\n",
    "        fhist.append(rhist)\n",
    "    return fhist"
   ]
  },
  {
   "cell_type": "markdown",
   "metadata": {},
   "source": [
    "## New Nodes Visited"
   ]
  },
  {
   "cell_type": "code",
   "execution_count": 11,
   "metadata": {},
   "outputs": [],
   "source": [
    "# Code from NewNodesMerge3 in MM_Traj_Utils\n",
    "def NewNodes(hist_states,le):\n",
    "    '''\n",
    "    calculate number of new nodes visited in window\n",
    "    hist_states = matrix of history\n",
    "    le = window length\n",
    "    '''\n",
    "    en=list(range(2**le-1,2**(le+1)-1)) # list of node numbers in level le\n",
    "    \n",
    "    ce=np.array(hist_states, dtype=\"object\") # concatenate all the bouts, only the nodes, not the times\n",
    "    ei=np.where(np.isin(ce,en))[0] # index of all the desired node states\n",
    "    \n",
    "    if len(ei)>0: # if there is at least one state\n",
    "        cn=np.copy(ce[ei]) # only the desired nodes\n",
    "        lc=len(cn) # number of desired nodes encountered\n",
    "        c=np.array([2,3,6,10,18,32,56,100,180,320,560,1000,1800,3200,5600,10000]) # window width in nodes\n",
    "        c=c[np.where(c<lc)] # use only those shorter than full length\n",
    "        c=np.append(c,lc) # add full length as last value\n",
    "        n=[np.average(np.array([len(set(cn[j:j+c1])) for j in range(0,lc-c1+1,(lc-c1)//(lc//c1)+1)])) for c1 in c]\n",
    "            # average number of distinct nodes in slightly overlapping windows of size w \n",
    "    else:\n",
    "        w=np.array([]); c=np.array([]); n=np.array([])\n",
    "        \n",
    "    wcn=[np.array([]),c,n]\n",
    "    return wcn"
   ]
  },
  {
   "cell_type": "markdown",
   "metadata": {},
   "source": [
    "## Cross-Entropy"
   ]
  },
  {
   "cell_type": "code",
   "execution_count": 132,
   "metadata": {},
   "outputs": [],
   "source": [
    "def CalculateCrossEntropy(da,mk,pr,sta,ma):\n",
    "    '''\n",
    "    Calculate cross-entropy\n",
    "    da = data\n",
    "    mk = mask applied to action, Boolean\n",
    "    pr = probability array\n",
    "    sta = node child matrix\n",
    "    ma = maze\n",
    "    '''\n",
    "    #ac=np.array([-1]+[StepType2(da[j-1],da[j],ma) for j in range(1,len(da))]) # forward actions\n",
    "    acst = ConvertNodesToStatesActions(da,sta,ma)\n",
    "    \n",
    "    pt=[] # predicted probabilities for the observed action\n",
    "    for i in range(len(da)): # i points to the action to be predicted\n",
    "        if mk[i]:\n",
    "            x = acst[i]\n",
    "            sn,sd = x[0]\n",
    "            a = x[1]\n",
    "            pt+=[pr[sn][sd][a]] # add probability for the observed action to the list\n",
    "    \n",
    "    ce=-np.sum(np.log(pt))/len(pt)/np.log(2) # cross-entropy\n",
    "    \n",
    "    return ce"
   ]
  },
  {
   "cell_type": "markdown",
   "metadata": {},
   "source": [
    "# Initialize Maze"
   ]
  },
  {
   "cell_type": "code",
   "execution_count": 13,
   "metadata": {
    "scrolled": true
   },
   "outputs": [
    {
     "data": {
      "image/png": "[encoded data removed]",
      "text/plain": [
       "<Figure size 600x600 with 1 Axes>"
      ]
     },
     "metadata": {},
     "output_type": "display_data"
    }
   ],
   "source": [
    "ma=NewMaze(6)\n",
    "PlotMazeNodes(ma)"
   ]
  },
  {
   "cell_type": "markdown",
   "metadata": {},
   "source": [
    "## Globals"
   ]
  },
  {
   "cell_type": "code",
   "execution_count": 52,
   "metadata": {},
   "outputs": [],
   "source": [
    "terminals = np.arange(63,127)\n",
    "terminal_mat = [[1,0,0],\n",
    "                [1,0,0],\n",
    "                [1,0,0]]\n",
    "home_mat = [[0,1,1],\n",
    "            [0,1,1],\n",
    "            [0,1,1]]"
   ]
  },
  {
   "cell_type": "markdown",
   "metadata": {},
   "source": [
    "# Main Functions"
   ]
  },
  {
   "cell_type": "markdown",
   "metadata": {},
   "source": [
    "## Helpers"
   ]
  },
  {
   "cell_type": "markdown",
   "metadata": {},
   "source": [
    "## Initialize"
   ]
  },
  {
   "cell_type": "markdown",
   "metadata": {},
   "source": [
    "Policy defined as:\n",
    "\n",
    "$$\\pi(a|s) = \\frac{e^{\\beta E(s,a)}}{\\sum_{a'}e^{\\beta E(s,a')}}$$\n",
    "\n",
    "$policy$ matrix shape is the same as E matrix shape (above)."
   ]
  },
  {
   "cell_type": "markdown",
   "metadata": {},
   "source": [
    "$sta$ built as:\n",
    "```\n",
    "[\n",
    "    [ # i = node number\n",
    "        # node level (127 = home, 0 = 1,2 etc.)\n",
    "        # left child node number\n",
    "        # right child node number\n",
    "    ]\n",
    "]\n",
    "```"
   ]
  },
  {
   "cell_type": "code",
   "execution_count": 51,
   "metadata": {
    "scrolled": true
   },
   "outputs": [
    {
     "data": {
      "text/plain": [
       "array([[127,   1,   2],\n",
       "       [  0,   3,   4],\n",
       "       [  0,   6,   5],\n",
       "       [  1,   8,   7],\n",
       "       [  1,   9,  10],\n",
       "       [  2,  12,  11],\n",
       "       [  2,  13,  14],\n",
       "       [  3,  15,  16],\n",
       "       [  3,  18,  17],\n",
       "       [  4,  19,  20],\n",
       "       [  4,  22,  21],\n",
       "       [  5,  23,  24],\n",
       "       [  5,  26,  25],\n",
       "       [  6,  27,  28],\n",
       "       [  6,  30,  29],\n",
       "       [  7,  32,  31],\n",
       "       [  7,  33,  34],\n",
       "       [  8,  36,  35],\n",
       "       [  8,  37,  38],\n",
       "       [  9,  40,  39],\n",
       "       [  9,  41,  42],\n",
       "       [ 10,  44,  43],\n",
       "       [ 10,  45,  46],\n",
       "       [ 11,  48,  47],\n",
       "       [ 11,  49,  50],\n",
       "       [ 12,  52,  51],\n",
       "       [ 12,  53,  54],\n",
       "       [ 13,  56,  55],\n",
       "       [ 13,  57,  58],\n",
       "       [ 14,  60,  59],\n",
       "       [ 14,  61,  62],\n",
       "       [ 15,  63,  64],\n",
       "       [ 15,  66,  65],\n",
       "       [ 16,  67,  68],\n",
       "       [ 16,  70,  69],\n",
       "       [ 17,  71,  72],\n",
       "       [ 17,  74,  73],\n",
       "       [ 18,  75,  76],\n",
       "       [ 18,  78,  77],\n",
       "       [ 19,  79,  80],\n",
       "       [ 19,  82,  81],\n",
       "       [ 20,  83,  84],\n",
       "       [ 20,  86,  85],\n",
       "       [ 21,  87,  88],\n",
       "       [ 21,  90,  89],\n",
       "       [ 22,  91,  92],\n",
       "       [ 22,  94,  93],\n",
       "       [ 23,  95,  96],\n",
       "       [ 23,  98,  97],\n",
       "       [ 24,  99, 100],\n",
       "       [ 24, 102, 101],\n",
       "       [ 25, 103, 104],\n",
       "       [ 25, 106, 105],\n",
       "       [ 26, 107, 108],\n",
       "       [ 26, 110, 109],\n",
       "       [ 27, 111, 112],\n",
       "       [ 27, 114, 113],\n",
       "       [ 28, 115, 116],\n",
       "       [ 28, 118, 117],\n",
       "       [ 29, 119, 120],\n",
       "       [ 29, 122, 121],\n",
       "       [ 30, 123, 124],\n",
       "       [ 30, 126, 125],\n",
       "       [ 31,  -1,  -1],\n",
       "       [ 31,  -1,  -1],\n",
       "       [ 32,  -1,  -1],\n",
       "       [ 32,  -1,  -1],\n",
       "       [ 33,  -1,  -1],\n",
       "       [ 33,  -1,  -1],\n",
       "       [ 34,  -1,  -1],\n",
       "       [ 34,  -1,  -1],\n",
       "       [ 35,  -1,  -1],\n",
       "       [ 35,  -1,  -1],\n",
       "       [ 36,  -1,  -1],\n",
       "       [ 36,  -1,  -1],\n",
       "       [ 37,  -1,  -1],\n",
       "       [ 37,  -1,  -1],\n",
       "       [ 38,  -1,  -1],\n",
       "       [ 38,  -1,  -1],\n",
       "       [ 39,  -1,  -1],\n",
       "       [ 39,  -1,  -1],\n",
       "       [ 40,  -1,  -1],\n",
       "       [ 40,  -1,  -1],\n",
       "       [ 41,  -1,  -1],\n",
       "       [ 41,  -1,  -1],\n",
       "       [ 42,  -1,  -1],\n",
       "       [ 42,  -1,  -1],\n",
       "       [ 43,  -1,  -1],\n",
       "       [ 43,  -1,  -1],\n",
       "       [ 44,  -1,  -1],\n",
       "       [ 44,  -1,  -1],\n",
       "       [ 45,  -1,  -1],\n",
       "       [ 45,  -1,  -1],\n",
       "       [ 46,  -1,  -1],\n",
       "       [ 46,  -1,  -1],\n",
       "       [ 47,  -1,  -1],\n",
       "       [ 47,  -1,  -1],\n",
       "       [ 48,  -1,  -1],\n",
       "       [ 48,  -1,  -1],\n",
       "       [ 49,  -1,  -1],\n",
       "       [ 49,  -1,  -1],\n",
       "       [ 50,  -1,  -1],\n",
       "       [ 50,  -1,  -1],\n",
       "       [ 51,  -1,  -1],\n",
       "       [ 51,  -1,  -1],\n",
       "       [ 52,  -1,  -1],\n",
       "       [ 52,  -1,  -1],\n",
       "       [ 53,  -1,  -1],\n",
       "       [ 53,  -1,  -1],\n",
       "       [ 54,  -1,  -1],\n",
       "       [ 54,  -1,  -1],\n",
       "       [ 55,  -1,  -1],\n",
       "       [ 55,  -1,  -1],\n",
       "       [ 56,  -1,  -1],\n",
       "       [ 56,  -1,  -1],\n",
       "       [ 57,  -1,  -1],\n",
       "       [ 57,  -1,  -1],\n",
       "       [ 58,  -1,  -1],\n",
       "       [ 58,  -1,  -1],\n",
       "       [ 59,  -1,  -1],\n",
       "       [ 59,  -1,  -1],\n",
       "       [ 60,  -1,  -1],\n",
       "       [ 60,  -1,  -1],\n",
       "       [ 61,  -1,  -1],\n",
       "       [ 61,  -1,  -1],\n",
       "       [ 62,  -1,  -1],\n",
       "       [ 62,  -1,  -1],\n",
       "       [ -1,   0,   0]])"
      ]
     },
     "execution_count": 51,
     "metadata": {},
     "output_type": "execute_result"
    }
   ],
   "source": [
    "NewTransMatrix(ma) # = sta"
   ]
  },
  {
   "cell_type": "code",
   "execution_count": 61,
   "metadata": {},
   "outputs": [],
   "source": [
    "def Init(beta):\n",
    "    '''\n",
    "    initialize simulation, return E and policy matrix, and sta = matrix of nodes and their children.\n",
    "    '''\n",
    "    sta=NewTransMatrix(ma) # array of nodes connected to each node as such: index = parent node, [level, left child, right child]\n",
    "    E=np.ones((len(ma.ru)+1,3,3)) # 3D array of values\n",
    "    exp_beta_E=np.exp(E * beta) # e^(beta*E)\n",
    "    exp_beta_E[terminals] = terminal_mat # reset terminal matrices\n",
    "    exp_beta_E[-1] = home_mat # reset home matrix\n",
    "    policy=np.divide(exp_beta_E, exp_beta_E.sum(axis=2,keepdims=True), out=np.zeros_like(exp_beta_E), where=exp_beta_E.sum(axis=2,keepdims=True)!=0) # policy as above\n",
    "    return E,policy,sta"
   ]
  },
  {
   "cell_type": "markdown",
   "metadata": {},
   "source": [
    "## Simulation Functions"
   ]
  },
  {
   "cell_type": "markdown",
   "metadata": {},
   "source": [
    "Update E by:\n",
    "$$ E(s,a) \\leftarrow E(s,a) + \\eta \\left(-E(s,a) + \\gamma E(s',a')\\right) $$"
   ]
  },
  {
   "cell_type": "code",
   "execution_count": 58,
   "metadata": {},
   "outputs": [],
   "source": [
    "def UpdateEAndPolicy(E,policy,state0,action0,value1,beta,gamma,eta):\n",
    "    '''\n",
    "    Updates the E and policy matrix.\n",
    "    state0 = (sn,sd)\n",
    "    action0 = 0 - left, 1 - right, 2 - back\n",
    "    value1 = E(s',a')\n",
    "    '''\n",
    "    value0 = GetValue(E,state0,action0) # get E(s,a)\n",
    "    E[state0[0]][state0[1]][action0] += eta * (-value0 + gamma * value1) # update E(s,a)\n",
    "    # update policy\n",
    "    exp_beta_E=np.exp(E * beta)\n",
    "    exp_beta_E[terminals] = terminal_mat # reset terminal matrices\n",
    "    exp_beta_E[-1] = home_mat # reset home matrix\n",
    "    policy=np.divide(exp_beta_E, exp_beta_E.sum(axis=2,keepdims=True), out=np.zeros_like(exp_beta_E), where=exp_beta_E.sum(axis=2,keepdims=True)!=0)\n",
    "    \n",
    "    return E,policy"
   ]
  },
  {
   "cell_type": "code",
   "execution_count": 18,
   "metadata": {},
   "outputs": [],
   "source": [
    "def ChooseAction(policy,state):\n",
    "    '''\n",
    "    choose next action by policy probabilities. returns **translated action**\n",
    "    '''\n",
    "    return int(np.random.choice(3,1,p=policy[state[0]][state[1]])[0])"
   ]
  },
  {
   "cell_type": "markdown",
   "metadata": {},
   "source": [
    "$hist$ matrix built as:\n",
    "```\n",
    "[\n",
    "    [ # i = number of bout\n",
    "        (state, ta)\n",
    "    ]\n",
    "]\n",
    "```\n",
    "With $state=(sn,sd)$ and $ta$ is the translated action."
   ]
  },
  {
   "cell_type": "code",
   "execution_count": 81,
   "metadata": {},
   "outputs": [],
   "source": [
    "def Simulate(nbouts,E,policy,sta,beta=0.1,gamma=0.1,eta=0.1):\n",
    "    '''\n",
    "    simulate trajectories and return final E and policy matrices, and history\n",
    "    nbouts = number of bouts (exploration until back to cage)\n",
    "    E = E matrix\n",
    "    policy = policy matrix\n",
    "    sta = parents and children matrix\n",
    "    '''\n",
    "    hist = []\n",
    "    for i in range(nbouts):\n",
    "        hist.append([])\n",
    "        home = False # has the bout ended\n",
    "        state0 = (0,0)\n",
    "        action0 = ChooseAction(policy,state0)\n",
    "        hist[i].append((state0,action0))\n",
    "        while not home:\n",
    "            sn1 = sta[state0[0]][action0] # sn1 = next state node\n",
    "            state1 = (sn1,np.where(sta[sn1]==state0[0])[0][0]) # second term to check the direction\n",
    "            action1 = ChooseAction(policy,state1)\n",
    "            value1 =  GetValue(E,state1,action1) # get E(s',a')\n",
    "            E,policy = UpdateEAndPolicy(E,policy,state0,action0,value1,beta,gamma,eta)\n",
    "            state0 = state1\n",
    "            action0 = action1\n",
    "            if sn1 == 127: # back to cage\n",
    "                home = True\n",
    "            else:\n",
    "                hist[i].append((state0,action0))\n",
    "            \n",
    "    return E, policy, hist"
   ]
  },
  {
   "cell_type": "code",
   "execution_count": 181,
   "metadata": {},
   "outputs": [
    {
     "data": {
      "text/plain": [
       "\"\\n# TEST POLICY AND E FUNCTIONS\\n\\nbeta = 100\\ngamma = 0.1\\neta=0.1\\n#E,policy,sta = Init(beta)\\n\\nstate0=(0,1)\\naction0=0\\nsn1 = sta[state0[0]][action0] # sn1 = next state node\\nprint(sn1)\\nprint(sta[sn1])\\nprint(state0)\\nprint(np.where(sta[sn1]==state0[0])[0][0])\\nstate1 = (sn1,np.where(sta[sn1]==state0[0])[0][0]) # second term to check the direction\\nprint(state1)\\naction1 = ChooseAction(policy,state1)\\nvalue1 = GetValue(E,state1,action1) # get E(s',a')\\nE,policy = UpdateEAndPolicy(E,policy,state0,action0,value1,beta,gamma,eta)\\nprint(E[0])\\nprint(policy[0])\\nprint(E[-1])\\nprint(policy[-1])\\n\""
      ]
     },
     "execution_count": 181,
     "metadata": {},
     "output_type": "execute_result"
    }
   ],
   "source": [
    "'''\n",
    "# TEST POLICY AND E FUNCTIONS\n",
    "\n",
    "beta = 100\n",
    "gamma = 0.1\n",
    "eta=0.1\n",
    "#E,policy,sta = Init(beta)\n",
    "\n",
    "state0=(0,1)\n",
    "action0=0\n",
    "sn1 = sta[state0[0]][action0] # sn1 = next state node\n",
    "print(sn1)\n",
    "print(sta[sn1])\n",
    "print(state0)\n",
    "print(np.where(sta[sn1]==state0[0])[0][0])\n",
    "state1 = (sn1,np.where(sta[sn1]==state0[0])[0][0]) # second term to check the direction\n",
    "print(state1)\n",
    "action1 = ChooseAction(policy,state1)\n",
    "value1 = GetValue(E,state1,action1) # get E(s',a')\n",
    "E,policy = UpdateEAndPolicy(E,policy,state0,action0,value1,beta,gamma,eta)\n",
    "print(E[0])\n",
    "print(policy[0])\n",
    "print(E[-1])\n",
    "print(policy[-1])\n",
    "'''"
   ]
  },
  {
   "cell_type": "markdown",
   "metadata": {},
   "source": [
    "# End Nodes Visited"
   ]
  },
  {
   "cell_type": "markdown",
   "metadata": {},
   "source": [
    "## Run Simulation"
   ]
  },
  {
   "cell_type": "code",
   "execution_count": 66,
   "metadata": {},
   "outputs": [],
   "source": [
    "eta=0.1\n",
    "gamma=0.1\n",
    "betas = [0, 0.1, 0.2, 0.3, 0.4, 0.5, 0.6, 0.7, 0.8, 0.9, 100]\n",
    "\n",
    "nbouts = 100\n",
    "\n",
    "bhist = np.ndarray(shape=(len(betas),2), dtype=object)\n",
    "bhist[:,0] = betas\n",
    "\n",
    "for j,beta in enumerate(betas): # run simulation on each beta\n",
    "    E,policy,sta = Init(beta)\n",
    "    E,policy,hist = Simulate(nbouts,E,policy,sta,beta,gamma,eta)\n",
    "    bhist[j,-1] = hist"
   ]
  },
  {
   "cell_type": "code",
   "execution_count": 182,
   "metadata": {},
   "outputs": [],
   "source": [
    "# BETA = 100\n",
    "\n",
    "nbouts = 100\n",
    "beta=100\n",
    "E,policy,sta = Init(beta)\n",
    "E,policy,hist = Simulate(nbouts,E,policy,sta,beta,gamma,eta)\n",
    "bhist[-1,-1] = hist\n",
    "fhist = FlattenBHist(bhist) # flattened bhist"
   ]
  },
  {
   "cell_type": "code",
   "execution_count": 233,
   "metadata": {},
   "outputs": [
    {
     "name": "stdout",
     "output_type": "stream",
     "text": [
      "[0, 1, 0, 2, 0, 2, 6, 14, 30, 14, 30, 62, 30, 61, 124, 61, 123, 61, 124, 61, 124, 61, 30, 61, 124, 61, 123, 61, 30, 62, 125, 62, 126, 62, 126, 62, 125, 62, 126, 62, 30, 14, 29, 14, 29, 59, 119, 59, 29, 59, 120, 59, 120, 59, 119, 59, 119, 59, 120, 59, 119, 59, 120, 59, 119, 59, 29, 59, 119, 59, 119, 59, 29, 59, 29, 14, 30, 62, 126, 62, 125, 62, 125, 62, 125, 62, 30, 14, 29, 14, 29, 60, 121, 60, 122, 60, 29, 59, 119, 59, 119, 59, 120, 59, 119, 59, 29, 14, 29, 14, 30, 61, 124, 61, 124, 61, 30, 62, 30, 62, 125, 62, 125, 62, 126, 62, 125, 62, 125, 62, 30, 62, 125, 62, 30, 61, 123, 61, 123, 61, 124, 61, 30, 14, 30, 61, 30, 14, 30, 62, 30, 14, 30, 62, 126, 62, 126, 62, 30, 62, 126, 62, 126, 62, 30, 62, 30, 14, 30, 14, 6, 14, 6, 2, 6, 13, 27, 55, 111, 55, 27, 56, 114, 56, 113, 56, 114, 56, 27, 55, 27, 13, 27, 55, 111, 55, 112, 55, 112, 55, 111, 55, 112, 55, 27, 56, 113, 56, 113, 56, 114, 56, 113, 56, 27, 56, 114, 56, 114, 56, 27, 56, 27, 13, 28, 58, 28, 13, 27, 56, 114, 56, 114, 56, 27, 56, 113, 56, 113, 56, 113, 56, 27, 55, 27, 13, 27, 56, 27, 56, 114, 56, 114, 56, 113, 56, 114, 56, 113, 56, 113, 56, 113, 56, 27, 13, 27, 13, 28, 13, 6, 13, 28, 57, 115, 57, 115, 57, 116, 57, 28, 58, 28, 58, 118, 58, 118, 58, 117, 58, 117, 58, 28, 57, 116, 57, 116, 57, 115, 57, 116, 57, 115, 57, 28, 57, 116, 57, 28, 13, 28, 57, 115, 57, 115, 57, 28, 57, 28, 58, 117, 58, 118, 58, 28, 57, 116, 57, 28, 13, 6, 14, 30, 14, 29, 60, 122, 60, 29, 59, 120, 59, 29, 60, 29, 14, 30, 61, 124, 61, 124, 61, 123, 61, 124, 61, 30, 62, 125, 62, 126, 62, 126, 62, 125, 62, 30, 61, 123, 61, 30, 61, 30, 62, 126, 62, 30, 61, 30, 14, 6, 13, 6, 2, 5, 11, 5, 2, 0]\n"
     ]
    }
   ],
   "source": [
    "_,_,hist = Simulate(1,E,policy,sta,beta,gamma,eta)\n",
    "print(FlattenHist(hist[0]))"
   ]
  },
  {
   "cell_type": "markdown",
   "metadata": {},
   "source": [
    "## Plot End Nodes Visited"
   ]
  },
  {
   "cell_type": "code",
   "execution_count": 134,
   "metadata": {},
   "outputs": [
    {
     "data": {
      "text/plain": [
       "(1, 5000)"
      ]
     },
     "execution_count": 134,
     "metadata": {},
     "output_type": "execute_result"
    },
    {
     "data": {
      "image/png": "[encoded data removed]",
      "text/plain": [
       "<Figure size 640x480 with 1 Axes>"
      ]
     },
     "metadata": {},
     "output_type": "display_data"
    }
   ],
   "source": [
    "le=6 # end nodes level\n",
    "\n",
    "# PLOT OPTIMAL\n",
    "x=[1,2,4,6,8,10,12,16,20,24,28,32,40,48,56,64]\n",
    "y=[1,2,4,6,8,10,12,16,20,24,28,32,40,48,56,64] \n",
    "fig, ax = plt.subplots()\n",
    "ax.set_xscale('log')\n",
    "ax.plot(x,y,'-b',label='optimal')\n",
    "\n",
    "# PLOT UNREWARDED MICE\n",
    "for i,nickname in enumerate(UnrewNamesSub):\n",
    "    with open('outdata/'+nickname+'-Modes1', 'rb') as f:\n",
    "        nn1,nf1,tr1,wcn=pickle.load(f)\n",
    "    x=wcn[1,:]\n",
    "    y=wcn[2,:]\n",
    "    ax.plot(x,y,'-c',linewidth=1)\n",
    "plt.plot([], [], 'c', label=\"mice\")\n",
    "\n",
    "# PLOT SIMULATION\n",
    "color = cm.rainbow(np.linspace(0, 1, len(betas)))\n",
    "\n",
    "for i,row in enumerate(fhist):\n",
    "    wcn = NewNodes(row,le)\n",
    "    x=wcn[1]\n",
    "    y=wcn[2]\n",
    "    ax.plot(x,y,c=color[i], label='beta=' + str(bhist[i,0]))\n",
    "    \n",
    "# PLOT RANDOM\n",
    "tf=LoadTraj('rw01-tf')\n",
    "wcn=NewNodesMerge3(tf,ma,le)\n",
    "x=wcn[1,:]\n",
    "y=wcn[2,:]\n",
    "ax.plot(x,y,'--k', linewidth=1.5,label='random')\n",
    "\n",
    "ax.legend()\n",
    "ax.set_xlabel('End node visited')\n",
    "ax.set_ylabel('New end node found')\n",
    "ax.set_xlim([1,5000])\n"
   ]
  },
  {
   "cell_type": "markdown",
   "metadata": {},
   "source": [
    "# Cross-Entropy"
   ]
  },
  {
   "cell_type": "markdown",
   "metadata": {},
   "source": [
    "## Calculate cross-entropy for each unrewarded mouse"
   ]
  },
  {
   "cell_type": "code",
   "execution_count": 110,
   "metadata": {},
   "outputs": [],
   "source": [
    "eta=0.1\n",
    "gamma=0.1\n",
    "beta=100\n",
    "nbouts=200\n",
    "\n",
    "E,policy,sta = Init(beta)\n",
    "E,policy,hist = Simulate(nbouts,E,policy,sta,beta,gamma,eta)"
   ]
  },
  {
   "cell_type": "code",
   "execution_count": 135,
   "metadata": {},
   "outputs": [],
   "source": [
    "rew = False\n",
    "\n",
    "unrew_ce = []\n",
    "for nickname in UnrewNamesSub:\n",
    "    tf=LoadTraj(nickname+'-tf')\n",
    "    ex=ModeMask(tf,ma,rew) # one array for each bout marking states with mode = 0,1,2\n",
    "    dte=np.concatenate([b[:-2,0] for b in tf.no[i::1]]) # test states\n",
    "    mte=np.array([False]+[True,]*(len(dte)-1)) # mask for testing, all actions OK except first\n",
    "    mte[np.where(dte[:-1]>62)[0]]=False # mask for testing, eliminate end nodes\n",
    "    ce = CalculateCrossEntropy(dte,mte,policy,sta,ma)\n",
    "    unrew_ce.append(ce)"
   ]
  },
  {
   "cell_type": "markdown",
   "metadata": {},
   "source": [
    "## Plot Cross-Entropy"
   ]
  },
  {
   "cell_type": "code",
   "execution_count": 121,
   "metadata": {},
   "outputs": [],
   "source": [
    "with open('outdata/Markov3-TJ1-EX1-Split5-LevelsLR', 'rb') as f:\n",
    "    Names,ef,hf,ev,hv,eft,hft,evt,hvt=pickle.load(f) "
   ]
  },
  {
   "cell_type": "code",
   "execution_count": 122,
   "metadata": {},
   "outputs": [],
   "source": [
    "all_ce = []\n",
    "for _,name in enumerate(Names):\n",
    "    if name not in UnrewNamesSub:\n",
    "        all_ce.append(0)\n",
    "    else:\n",
    "        all_ce.append(unrew_ce[UnrewNamesSub.index(name)])"
   ]
  },
  {
   "cell_type": "code",
   "execution_count": 123,
   "metadata": {},
   "outputs": [
    {
     "name": "stdout",
     "output_type": "stream",
     "text": [
      "Entropy from Markov fits and 4-bias walk\n",
      "Restricted to T-junctions and exploration mode\n",
      "Markov fits pool over L vs R nodes in each level\n",
      "   fixed Markov  variable Markov  4-bias walk        Model\n",
      "B1:    1.250           1.243          1.414          0.000\n",
      "B2:    1.277           1.267          1.470          0.000\n",
      "B3:    1.222           1.214          1.422          0.000\n",
      "B4:    1.262           1.231          1.495          0.000\n",
      "C1:    1.220           1.210          1.446          0.000\n",
      "C3:    1.183           1.168          1.436          0.000\n",
      "C6:    1.196           1.191          1.379          0.000\n",
      "C7:    1.234           1.218          1.444          0.000\n",
      "C8:    1.211           1.191          1.489          0.000\n",
      "C9:    1.238           1.229          1.460          0.000\n",
      "B5:    1.294           1.278          1.458          1.925\n",
      "B6:    1.270           1.259          1.491          1.884\n",
      "B7:    1.286           1.267          1.486          1.866\n",
      "D3:    1.286           1.275          1.437          1.898\n",
      "D4:    1.244           1.239          1.430          1.941\n",
      "D5:    1.293           1.279          1.480          1.914\n",
      "D7:    1.203           1.197          1.459          1.927\n",
      "D8:    1.278           1.261          1.484          1.916\n",
      "D9:    1.316           1.295          1.510          1.885\n",
      "------------------------------------------------------------\n",
      "Av:    1.251           1.238          1.457          1.906\n",
      "SD:    0.037           0.035          0.032          0.023\n"
     ]
    }
   ],
   "source": [
    "# Table of entropies from all methods for TJs and exploration\n",
    "with open('outdata/BZentropies', 'rb') as f:\n",
    "    _,en=pickle.load(f)  \n",
    "with open('outdata/FixEntropies-TJ1-EX1-Split5-LevelsLR', 'rb') as f:\n",
    "    _,ef=pickle.load(f)  \n",
    "with open('outdata/VarEntropies-TJ1-EX1-Split5-LevelsLR', 'rb') as f:\n",
    "    _,ev=pickle.load(f)  \n",
    "with open('outdata/FourBiasEntropies-TJ1-EX1-Split5', 'rb') as f:\n",
    "    _,eb=pickle.load(f) \n",
    "    \n",
    "print('Entropy from Markov fits and 4-bias walk')\n",
    "print('Restricted to T-junctions and exploration mode')\n",
    "print('Markov fits pool over L vs R nodes in each level')\n",
    "print('   fixed Markov  variable Markov  4-bias walk        Model')\n",
    "for i in range(len(Names)):\n",
    "    print(Names[i]+':    {:5.3f}           {:5.3f}          {:5.3f}          {:5.3f}'.\n",
    "          format(ef[i],ev[i],eb[i],all_ce[i]))\n",
    "print('------------------------------------------------------------')\n",
    "print('Av:    {:5.3f}           {:5.3f}          {:5.3f}          {:5.3f}'.\n",
    "      format(np.mean(ef),np.mean(ev),np.mean(eb),np.mean(unrew_ce)))\n",
    "print('SD:    {:5.3f}           {:5.3f}          {:5.3f}          {:5.3f}'.\n",
    "      format(np.std(ef),np.std(ev),np.std(eb),np.std(unrew_ce)))"
   ]
  },
  {
   "cell_type": "code",
   "execution_count": 124,
   "metadata": {},
   "outputs": [
    {
     "name": "stdout",
     "output_type": "stream",
     "text": [
      "Limited to T-junctions during exploration, includes L vs R node pooling\n"
     ]
    },
    {
     "data": {
      "image/png": "[encoded data removed]",
      "text/plain": [
       "<Figure size 600x350 with 1 Axes>"
      ]
     },
     "metadata": {},
     "output_type": "display_data"
    }
   ],
   "source": [
    "k=len(RewNames)\n",
    "RN=np.array(RewNames)\n",
    "UN=np.array(UnrewNamesSub)\n",
    "ev=np.array(ev);ef=np.array(ef);eb=np.array(eb);en=np.array(en);ace=np.array(all_ce)\n",
    "evr=ev[:k];efr=ef[:k];ebr=eb[:k];enr=en[:k]\n",
    "evu=ev[k:];efu=ef[k:];ebu=eb[k:];enu=en[k:];aceu=ace[k:]\n",
    "sir=np.argsort(evr)\n",
    "siu=np.argsort(evu)\n",
    "print('Limited to T-junctions during exploration, includes L vs R node pooling')\n",
    "ax=plot(np.arange(len(UN)),[evu[siu],efu[siu],ebu[siu],aceu[siu]],\n",
    "    fmts=['r_','g_','b_','y_'],markersize=6,markeredgewidth=3,\n",
    "       figsize=(6,3.5),xlabel='unrewarded',ylabel='Cross-entropy (bits/action)');\n",
    "plot([-0.5,len(UN)+1.5],[np.log(3)/np.log(2),np.log(3)/np.log(2)],\n",
    "    fmts=['k:'],linewidth=1,ylim=[1.05,2.1],axes=ax);\n",
    "plt.legend(['Markov variable','Markov fixed','Biased walk','Model','Random walk'],loc='lower right',ncol=2)\n",
    "plt.xticks(list(np.arange(len(UN))),list(UN[siu]));"
   ]
  }
 ],
 "metadata": {
  "kernelspec": {
   "display_name": "Python 3 (ipykernel)",
   "language": "python",
   "name": "python3"
  },
  "language_info": {
   "codemirror_mode": {
    "name": "ipython",
    "version": 3
   },
   "file_extension": ".py",
   "mimetype": "text/x-python",
   "name": "python",
   "nbconvert_exporter": "python",
   "pygments_lexer": "ipython3",
   "version": "3.10.9"
  },
  "toc": {
   "base_numbering": 1,
   "nav_menu": {},
   "number_sections": true,
   "sideBar": true,
   "skip_h1_title": false,
   "title_cell": "Table of Contents",
   "title_sidebar": "Contents",
   "toc_cell": true,
   "toc_position": {
    "height": "calc(100% - 180px)",
    "left": "10px",
    "top": "150px",
    "width": "345.6px"
   },
   "toc_section_display": true,
   "toc_window_display": true
  }
 },
 "nbformat": 4,
 "nbformat_minor": 2
}
