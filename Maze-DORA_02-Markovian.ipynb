{
 "cells": [
  {
   "cell_type": "markdown",
   "metadata": {},
   "source": [
    "# Imports"
   ]
  },
  {
   "cell_type": "code",
   "execution_count": 9,
   "metadata": {},
   "outputs": [],
   "source": [
    "# Imports\n",
    "import pickle\n",
    "import numpy as np\n",
    "from matplotlib.pyplot import cm\n",
    "from matplotlib import pyplot as plt\n",
    "from matplotlib import patches\n",
    "from copy import deepcopy\n",
    "import plotly.graph_objects as go\n",
    "from scipy.optimize import curve_fit\n",
    "from dataclasses import make_dataclass\n",
    "\n",
    "import sys\n",
    "module_path = 'code' \n",
    "if module_path not in sys.path:\n",
    "    sys.path.append(module_path)\n",
    "    \n",
    "np.set_printoptions(threshold=sys.maxsize)\n",
    "\n",
    "\n",
    "# Markus's code\n",
    "from MM_Plot_Utils import plot, hist\n",
    "from MM_Maze_Utils import *\n",
    "from MM_Traj_Utils import *\n",
    "\n",
    "%matplotlib inline\n",
    "%reload_ext autoreload\n",
    "%autoreload 2"
   ]
  },
  {
   "cell_type": "markdown",
   "metadata": {},
   "source": [
    "# Initialize Data"
   ]
  },
  {
   "cell_type": "code",
   "execution_count": 10,
   "metadata": {},
   "outputs": [],
   "source": [
    "UnrewNames=['B5','B6','B7','D3','D4','D5','D6','D7','D8','D9']\n",
    "RewNames=['B1','B2','B3','B4','C1','C3','C6','C7','C8','C9']\n",
    "UnrewNamesSub=['B5','B6','B7','D3','D4','D5','D7','D8','D9'] # excluding D6 which barely entered the maze\n",
    "AllNames=RewNames+UnrewNames"
   ]
  },
  {
   "cell_type": "markdown",
   "metadata": {},
   "source": [
    "# Helper Functions"
   ]
  },
  {
   "cell_type": "markdown",
   "metadata": {},
   "source": [
    "## Maze and Trajectories"
   ]
  },
  {
   "cell_type": "code",
   "execution_count": 14,
   "metadata": {},
   "outputs": [],
   "source": [
    "def ModeMask(tf,ma,re):\n",
    "    '''\n",
    "    Creates an array that parallels the bouts in tf giving the behavioral mode for every state\n",
    "    0=home,1=drink,2=explore\n",
    "    '''\n",
    "    cl=SplitModeClips(tf,ma,re=True) # split the trajectory into mode clips\n",
    "    ex=[np.zeros(len(b)) for b in tf.no] # list of arrays, one for each bout\n",
    "    for c in cl: # for each clip\n",
    "        ex[c[0]][c[1]:c[1]+c[2]]=c[3] # mark the states in the clip with the mode\n",
    "    return ex"
   ]
  },
  {
   "cell_type": "code",
   "execution_count": 15,
   "metadata": {},
   "outputs": [],
   "source": [
    "def NewTransMatrix(ma):\n",
    "    '''\n",
    "    Add node 127 to trans matrix\n",
    "    '''\n",
    "    tra = TransMatrix(ma)\n",
    "    tra = np.append(tra,[[-1,0,0]],axis=0)\n",
    "    return tra"
   ]
  },
  {
   "cell_type": "markdown",
   "metadata": {},
   "source": [
    "## Initialization"
   ]
  },
  {
   "cell_type": "markdown",
   "metadata": {},
   "source": [
    "A **state** is a tuple $(sn,sd)$ where $sn$ is the number of the state node, and $sd$ is the direction from which we have arrived to the state, as follows:\n",
    "* 0: from parent\n",
    "* 1: from left\n",
    "* 2: from right\n",
    "\n",
    "An **action** is a number indicating the action, as follows:\n",
    "* 0: parent\n",
    "* 1: left\n",
    "* 2: right\n",
    "\n",
    "The actions in the original code are numbered:\n",
    "* 0: left\n",
    "* 1: right\n",
    "* 2: parent\n",
    "\n",
    "$TranslateAction$ converts the original action codes to our action codes.\n",
    "\n",
    "The action is viewed by the code as from state $(sn,0)$, in order to translate it to the action appropriate for the direction, we use $(sd + a) \\text{ mod } 3$."
   ]
  },
  {
   "cell_type": "code",
   "execution_count": 33,
   "metadata": {},
   "outputs": [],
   "source": [
    "def TranslateAction(action):\n",
    "    '''\n",
    "    Translate action from original action code to our action code\n",
    "    '''\n",
    "    if (action == -1):\n",
    "        return -1\n",
    "    else:\n",
    "        return (action + 1) % 3"
   ]
  },
  {
   "cell_type": "code",
   "execution_count": 34,
   "metadata": {},
   "outputs": [],
   "source": [
    "def ConvertNodesToStatesActions(da,sta,ma):\n",
    "    '''\n",
    "    Convert node sequence to (state,action) format\n",
    "    da = node list\n",
    "    sta = node child matrix\n",
    "    ma = maze\n",
    "    '''\n",
    "    newda=[(0,da[1])]\n",
    "    for i,node in enumerate(da[1:],1):\n",
    "        prevnode = da[i-1]\n",
    "        nextnode = 0\n",
    "        if i < len(da)-1:\n",
    "            nextnode = da[i+1]\n",
    "            \n",
    "        nst = TranslateAction(StepType2(node, nextnode, ma)) # step type from MM_Maze_Utils\n",
    "        \n",
    "        state = node\n",
    "        action = nst\n",
    "        newda.append((state,action))\n",
    "        \n",
    "    return newda"
   ]
  },
  {
   "cell_type": "markdown",
   "metadata": {},
   "source": [
    "$E$ matrix built as:\n",
    "```\n",
    "[\n",
    "    [ # i = node number\n",
    "        parent, left, right\n",
    "    ]\n",
    "]\n",
    "```"
   ]
  },
  {
   "cell_type": "code",
   "execution_count": 2,
   "metadata": {},
   "outputs": [],
   "source": [
    "def GetValue(E,state,action):\n",
    "    '''\n",
    "    return E(s,a)\n",
    "    action = 0 - parent, 1 - left, 2 - right\n",
    "    '''\n",
    "    return E[state][action]"
   ]
  },
  {
   "cell_type": "code",
   "execution_count": 4,
   "metadata": {},
   "outputs": [],
   "source": [
    "def FlattenHist(hist):\n",
    "    '''\n",
    "    Flatten hist where hist is an array of tuples (state,action) and return only state nodes\n",
    "    '''\n",
    "    return [x[0] for x in hist]"
   ]
  },
  {
   "cell_type": "code",
   "execution_count": 5,
   "metadata": {},
   "outputs": [],
   "source": [
    "def FlattenBHist(hist):\n",
    "    '''\n",
    "    flatten bhist and return list of only state nodes with different array of nodes for each beta\n",
    "    '''\n",
    "    fhist = []\n",
    "    for brow in hist[:,-1]:\n",
    "        rhist = []\n",
    "        for row in brow:\n",
    "            rhist.extend(FlattenHist(row))\n",
    "        fhist.append(rhist)\n",
    "    return fhist"
   ]
  },
  {
   "cell_type": "markdown",
   "metadata": {},
   "source": [
    "## New Nodes Visited"
   ]
  },
  {
   "cell_type": "code",
   "execution_count": 6,
   "metadata": {},
   "outputs": [],
   "source": [
    "# Code from NewNodesMerge3 in MM_Traj_Utils\n",
    "def NewNodes(hist_states,le):\n",
    "    '''\n",
    "    calculate number of new nodes visited in window\n",
    "    hist_states = matrix of history\n",
    "    le = window length\n",
    "    '''\n",
    "    en=list(range(2**le-1,2**(le+1)-1)) # list of node numbers in level le\n",
    "    \n",
    "    ce=np.array(hist_states, dtype=\"object\") # concatenate all the bouts, only the nodes, not the times\n",
    "    ei=np.where(np.isin(ce,en))[0] # index of all the desired node states\n",
    "    \n",
    "    if len(ei)>0: # if there is at least one state\n",
    "        cn=np.copy(ce[ei]) # only the desired nodes\n",
    "        lc=len(cn) # number of desired nodes encountered\n",
    "        c=np.array([2,3,6,10,18,32,56,100,180,320,560,1000,1800,3200,5600,10000]) # window width in nodes\n",
    "        c=c[np.where(c<lc)] # use only those shorter than full length\n",
    "        c=np.append(c,lc) # add full length as last value\n",
    "        n=[np.average(np.array([len(set(cn[j:j+c1])) for j in range(0,lc-c1+1,(lc-c1)//(lc//c1)+1)])) for c1 in c]\n",
    "            # average number of distinct nodes in slightly overlapping windows of size w \n",
    "    else:\n",
    "        w=np.array([]); c=np.array([]); n=np.array([])\n",
    "        \n",
    "    wcn=[np.array([]),c,n]\n",
    "    return wcn"
   ]
  },
  {
   "cell_type": "markdown",
   "metadata": {},
   "source": [
    "## Cross-Entropy"
   ]
  },
  {
   "cell_type": "code",
   "execution_count": 7,
   "metadata": {},
   "outputs": [],
   "source": [
    "def CalculateCrossEntropy(da,mk,pr,sta,ma):\n",
    "    '''\n",
    "    Calculate cross-entropy\n",
    "    da = data\n",
    "    mk = mask applied to action, Boolean\n",
    "    pr = probability array\n",
    "    sta = node child matrix\n",
    "    ma = maze\n",
    "    '''\n",
    "    #ac=np.array([-1]+[StepType2(da[j-1],da[j],ma) for j in range(1,len(da))]) # forward actions\n",
    "    acst = ConvertNodesToStatesActions(da,sta,ma)\n",
    "    \n",
    "    pt=[] # predicted probabilities for the observed action\n",
    "    for i in range(len(da)): # i points to the action to be predicted\n",
    "        if mk[i]:\n",
    "            x = acst[i]\n",
    "            sn = x[0]\n",
    "            a = x[1]\n",
    "            pt+=[pr[sn][a]] # add probability for the observed action to the list\n",
    "    \n",
    "    ce=-np.sum(np.log(pt))/len(pt)/np.log(2) # cross-entropy\n",
    "    \n",
    "    return ce"
   ]
  },
  {
   "cell_type": "markdown",
   "metadata": {},
   "source": [
    "# Initialize Maze"
   ]
  },
  {
   "cell_type": "code",
   "execution_count": 11,
   "metadata": {
    "scrolled": true
   },
   "outputs": [
    {
     "data": {
      "image/png": "[encoded data removed]",
      "text/plain": [
       "<Figure size 600x600 with 1 Axes>"
      ]
     },
     "metadata": {},
     "output_type": "display_data"
    }
   ],
   "source": [
    "ma=NewMaze(6)\n",
    "PlotMazeNodes(ma)"
   ]
  },
  {
   "cell_type": "markdown",
   "metadata": {},
   "source": [
    "## Globals"
   ]
  },
  {
   "cell_type": "code",
   "execution_count": 12,
   "metadata": {},
   "outputs": [],
   "source": [
    "terminals = np.arange(63,127)\n",
    "terminal_mat = [1,0,0]\n",
    "home_mat = [0,1,1]"
   ]
  },
  {
   "cell_type": "markdown",
   "metadata": {},
   "source": [
    "# Main Functions"
   ]
  },
  {
   "cell_type": "markdown",
   "metadata": {},
   "source": [
    "## Helpers"
   ]
  },
  {
   "cell_type": "markdown",
   "metadata": {},
   "source": [
    "## Initialize"
   ]
  },
  {
   "cell_type": "markdown",
   "metadata": {},
   "source": [
    "Policy defined as:\n",
    "\n",
    "$$\\pi(a|s) = \\frac{e^{\\beta E(s,a)}}{\\sum_{a'}e^{\\beta E(s,a')}}$$\n",
    "\n",
    "$policy$ matrix shape is the same as E matrix shape (above)."
   ]
  },
  {
   "cell_type": "markdown",
   "metadata": {},
   "source": [
    "$sta$ built as:\n",
    "```\n",
    "[\n",
    "    [ # i = node number\n",
    "        # node level (127 = home, 0 = 1,2 etc.)\n",
    "        # left child node number\n",
    "        # right child node number\n",
    "    ]\n",
    "]\n",
    "```"
   ]
  },
  {
   "cell_type": "code",
   "execution_count": 16,
   "metadata": {
    "scrolled": true
   },
   "outputs": [
    {
     "data": {
      "text/plain": [
       "array([[127,   1,   2],\n",
       "       [  0,   3,   4],\n",
       "       [  0,   6,   5],\n",
       "       [  1,   8,   7],\n",
       "       [  1,   9,  10],\n",
       "       [  2,  12,  11],\n",
       "       [  2,  13,  14],\n",
       "       [  3,  15,  16],\n",
       "       [  3,  18,  17],\n",
       "       [  4,  19,  20],\n",
       "       [  4,  22,  21],\n",
       "       [  5,  23,  24],\n",
       "       [  5,  26,  25],\n",
       "       [  6,  27,  28],\n",
       "       [  6,  30,  29],\n",
       "       [  7,  32,  31],\n",
       "       [  7,  33,  34],\n",
       "       [  8,  36,  35],\n",
       "       [  8,  37,  38],\n",
       "       [  9,  40,  39],\n",
       "       [  9,  41,  42],\n",
       "       [ 10,  44,  43],\n",
       "       [ 10,  45,  46],\n",
       "       [ 11,  48,  47],\n",
       "       [ 11,  49,  50],\n",
       "       [ 12,  52,  51],\n",
       "       [ 12,  53,  54],\n",
       "       [ 13,  56,  55],\n",
       "       [ 13,  57,  58],\n",
       "       [ 14,  60,  59],\n",
       "       [ 14,  61,  62],\n",
       "       [ 15,  63,  64],\n",
       "       [ 15,  66,  65],\n",
       "       [ 16,  67,  68],\n",
       "       [ 16,  70,  69],\n",
       "       [ 17,  71,  72],\n",
       "       [ 17,  74,  73],\n",
       "       [ 18,  75,  76],\n",
       "       [ 18,  78,  77],\n",
       "       [ 19,  79,  80],\n",
       "       [ 19,  82,  81],\n",
       "       [ 20,  83,  84],\n",
       "       [ 20,  86,  85],\n",
       "       [ 21,  87,  88],\n",
       "       [ 21,  90,  89],\n",
       "       [ 22,  91,  92],\n",
       "       [ 22,  94,  93],\n",
       "       [ 23,  95,  96],\n",
       "       [ 23,  98,  97],\n",
       "       [ 24,  99, 100],\n",
       "       [ 24, 102, 101],\n",
       "       [ 25, 103, 104],\n",
       "       [ 25, 106, 105],\n",
       "       [ 26, 107, 108],\n",
       "       [ 26, 110, 109],\n",
       "       [ 27, 111, 112],\n",
       "       [ 27, 114, 113],\n",
       "       [ 28, 115, 116],\n",
       "       [ 28, 118, 117],\n",
       "       [ 29, 119, 120],\n",
       "       [ 29, 122, 121],\n",
       "       [ 30, 123, 124],\n",
       "       [ 30, 126, 125],\n",
       "       [ 31,  -1,  -1],\n",
       "       [ 31,  -1,  -1],\n",
       "       [ 32,  -1,  -1],\n",
       "       [ 32,  -1,  -1],\n",
       "       [ 33,  -1,  -1],\n",
       "       [ 33,  -1,  -1],\n",
       "       [ 34,  -1,  -1],\n",
       "       [ 34,  -1,  -1],\n",
       "       [ 35,  -1,  -1],\n",
       "       [ 35,  -1,  -1],\n",
       "       [ 36,  -1,  -1],\n",
       "       [ 36,  -1,  -1],\n",
       "       [ 37,  -1,  -1],\n",
       "       [ 37,  -1,  -1],\n",
       "       [ 38,  -1,  -1],\n",
       "       [ 38,  -1,  -1],\n",
       "       [ 39,  -1,  -1],\n",
       "       [ 39,  -1,  -1],\n",
       "       [ 40,  -1,  -1],\n",
       "       [ 40,  -1,  -1],\n",
       "       [ 41,  -1,  -1],\n",
       "       [ 41,  -1,  -1],\n",
       "       [ 42,  -1,  -1],\n",
       "       [ 42,  -1,  -1],\n",
       "       [ 43,  -1,  -1],\n",
       "       [ 43,  -1,  -1],\n",
       "       [ 44,  -1,  -1],\n",
       "       [ 44,  -1,  -1],\n",
       "       [ 45,  -1,  -1],\n",
       "       [ 45,  -1,  -1],\n",
       "       [ 46,  -1,  -1],\n",
       "       [ 46,  -1,  -1],\n",
       "       [ 47,  -1,  -1],\n",
       "       [ 47,  -1,  -1],\n",
       "       [ 48,  -1,  -1],\n",
       "       [ 48,  -1,  -1],\n",
       "       [ 49,  -1,  -1],\n",
       "       [ 49,  -1,  -1],\n",
       "       [ 50,  -1,  -1],\n",
       "       [ 50,  -1,  -1],\n",
       "       [ 51,  -1,  -1],\n",
       "       [ 51,  -1,  -1],\n",
       "       [ 52,  -1,  -1],\n",
       "       [ 52,  -1,  -1],\n",
       "       [ 53,  -1,  -1],\n",
       "       [ 53,  -1,  -1],\n",
       "       [ 54,  -1,  -1],\n",
       "       [ 54,  -1,  -1],\n",
       "       [ 55,  -1,  -1],\n",
       "       [ 55,  -1,  -1],\n",
       "       [ 56,  -1,  -1],\n",
       "       [ 56,  -1,  -1],\n",
       "       [ 57,  -1,  -1],\n",
       "       [ 57,  -1,  -1],\n",
       "       [ 58,  -1,  -1],\n",
       "       [ 58,  -1,  -1],\n",
       "       [ 59,  -1,  -1],\n",
       "       [ 59,  -1,  -1],\n",
       "       [ 60,  -1,  -1],\n",
       "       [ 60,  -1,  -1],\n",
       "       [ 61,  -1,  -1],\n",
       "       [ 61,  -1,  -1],\n",
       "       [ 62,  -1,  -1],\n",
       "       [ 62,  -1,  -1],\n",
       "       [ -1,   0,   0]])"
      ]
     },
     "execution_count": 16,
     "metadata": {},
     "output_type": "execute_result"
    }
   ],
   "source": [
    "NewTransMatrix(ma) # = sta"
   ]
  },
  {
   "cell_type": "code",
   "execution_count": 19,
   "metadata": {},
   "outputs": [],
   "source": [
    "def Init(beta):\n",
    "    '''\n",
    "    initialize simulation, return E and policy matrix, and sta = matrix of nodes and their children.\n",
    "    '''\n",
    "    sta=NewTransMatrix(ma) # array of nodes connected to each node as such: index = parent node, [level, left child, right child]\n",
    "    E=np.ones((len(ma.ru)+1,3)) # 2D array of values\n",
    "    exp_beta_E=np.exp(E * beta) # e^(beta*E)\n",
    "    exp_beta_E[terminals] = terminal_mat # reset terminal matrices\n",
    "    exp_beta_E[-1] = home_mat # reset home matrix\n",
    "    policy=np.divide(exp_beta_E, exp_beta_E.sum(axis=1,keepdims=True), out=np.zeros_like(exp_beta_E), where=exp_beta_E.sum(axis=1,keepdims=True)!=0) # policy as above\n",
    "    return E,policy,sta"
   ]
  },
  {
   "cell_type": "markdown",
   "metadata": {},
   "source": [
    "## Simulation Functions"
   ]
  },
  {
   "cell_type": "markdown",
   "metadata": {},
   "source": [
    "Update E by:\n",
    "$$ E(s,a) \\leftarrow E(s,a) + \\eta \\left(-E(s,a) + \\gamma E(s',a')\\right) $$"
   ]
  },
  {
   "cell_type": "code",
   "execution_count": 20,
   "metadata": {},
   "outputs": [],
   "source": [
    "def UpdateEAndPolicy(E,policy,state0,action0,value1,beta,gamma,eta):\n",
    "    '''\n",
    "    Updates the E and policy matrix.\n",
    "    state0 = node\n",
    "    action0 = 0 - parent, 1 - left, 2 - right\n",
    "    value1 = E(s',a')\n",
    "    '''\n",
    "    value0 = GetValue(E,state0,action0) # get E(s,a)\n",
    "    E[state0][action0] += eta * (-value0 + gamma * value1) # update E(s,a)\n",
    "    # update policy\n",
    "    exp_beta_E=np.exp(E * beta)\n",
    "    exp_beta_E[terminals] = terminal_mat # reset terminal matrices\n",
    "    exp_beta_E[-1] = home_mat # reset home matrix\n",
    "    policy=np.divide(exp_beta_E, exp_beta_E.sum(axis=1,keepdims=True), out=np.zeros_like(exp_beta_E), where=exp_beta_E.sum(axis=1,keepdims=True)!=0)\n",
    "    \n",
    "    return E,policy"
   ]
  },
  {
   "cell_type": "markdown",
   "metadata": {},
   "source": [
    "Update cage value in E by:\n",
    "$$ E(127,a) \\leftarrow E(127,a) + \\eta \\left(-E(127,a) + \\gamma \\right) $$\n",
    "where $a$ is the action of going back to node 0."
   ]
  },
  {
   "cell_type": "code",
   "execution_count": 134,
   "metadata": {},
   "outputs": [],
   "source": [
    "def UpdateECage(E,gamma,eta):\n",
    "    ev = E[127][1]\n",
    "    ev += eta*(-ev+gamma)\n",
    "    E[127][1] = E[127][2] = ev\n",
    "    return E"
   ]
  },
  {
   "cell_type": "code",
   "execution_count": 21,
   "metadata": {},
   "outputs": [],
   "source": [
    "def ChooseAction(policy,state):\n",
    "    '''\n",
    "    choose next action by policy probabilities. returns **translated action**\n",
    "    '''\n",
    "    return int(np.random.choice(3,1,p=policy[state])[0])"
   ]
  },
  {
   "cell_type": "markdown",
   "metadata": {},
   "source": [
    "$hist$ matrix built as:\n",
    "```\n",
    "[\n",
    "    [ # i = number of bout\n",
    "        (state, ta)\n",
    "    ]\n",
    "]\n",
    "```\n",
    "With $state=(sn,sd)$ and $ta$ is the translated action."
   ]
  },
  {
   "cell_type": "code",
   "execution_count": 137,
   "metadata": {},
   "outputs": [],
   "source": [
    "def Simulate(nbouts,E,policy,sta,beta=0.1,gamma=0.1,eta=0.1):\n",
    "    '''\n",
    "    simulate trajectories and return final E and policy matrices, and history\n",
    "    nbouts = number of bouts (exploration until back to cage)\n",
    "    E = E matrix\n",
    "    policy = policy matrix\n",
    "    sta = parents and children matrix\n",
    "    '''\n",
    "    hist = []\n",
    "    for i in range(nbouts):\n",
    "        hist.append([])\n",
    "        home = False # has the bout ended\n",
    "        state0 = 0\n",
    "        action0 = ChooseAction(policy,state0)\n",
    "        hist[i].append((state0,action0))\n",
    "        while not home:\n",
    "            state1 = sta[state0][action0] # state1 = next state node\n",
    "            action1 = ChooseAction(policy,state1)\n",
    "            value1 = GetValue(E,state1,action1) # get E(s',a')\n",
    "            E,policy = UpdateEAndPolicy(E,policy,state0,action0,value1,beta,gamma,eta)\n",
    "            state0 = state1\n",
    "            action0 = action1\n",
    "            if state1 == 127: # back to cage\n",
    "                home = True\n",
    "                E = UpdateECage(E,gamma,eta) # update cage value of E\n",
    "            else:\n",
    "                hist[i].append((state0,action0))\n",
    "            \n",
    "    return E, policy, hist"
   ]
  },
  {
   "cell_type": "markdown",
   "metadata": {},
   "source": [
    "# End Nodes Visited"
   ]
  },
  {
   "cell_type": "markdown",
   "metadata": {},
   "source": [
    "## Run Simulation"
   ]
  },
  {
   "cell_type": "code",
   "execution_count": 138,
   "metadata": {},
   "outputs": [],
   "source": [
    "eta=0.1\n",
    "gamma=0.1\n",
    "betas = [0, 0.1, 0.2, 0.3, 0.4, 0.5, 0.6, 0.7, 0.8, 0.9, 100]\n",
    "\n",
    "nbouts = 100\n",
    "\n",
    "bhist = np.ndarray(shape=(len(betas),2), dtype=object)\n",
    "bhist[:,0] = betas\n",
    "\n",
    "for j,beta in enumerate(betas): # run simulation on each beta\n",
    "    E,policy,sta = Init(beta)\n",
    "    E,policy,hist = Simulate(nbouts,E,policy,sta,beta,gamma,eta)\n",
    "    bhist[j,-1] = hist"
   ]
  },
  {
   "cell_type": "markdown",
   "metadata": {},
   "source": [
    "## Play With Beta=100"
   ]
  },
  {
   "cell_type": "code",
   "execution_count": 121,
   "metadata": {},
   "outputs": [],
   "source": [
    "# BETA = 100\n",
    "\n",
    "nbouts = 100\n",
    "beta=100\n",
    "E,policy,sta = Init(beta)\n",
    "E,policy,hist = Simulate(nbouts,E,policy,sta,beta,gamma,eta)\n",
    "bhist[-1,-1] = hist\n"
   ]
  },
  {
   "cell_type": "code",
   "execution_count": 129,
   "metadata": {},
   "outputs": [
    {
     "name": "stdout",
     "output_type": "stream",
     "text": [
      "[[0.95762344 0.03198975 0.01038681]\n",
      " [0.47446057 0.26324519 0.26229424]\n",
      " [0.11899048 0.19923203 0.68177749]\n",
      " [0.23011233 0.27595217 0.49393551]\n",
      " [0.27333328 0.55472184 0.17194488]\n",
      " [0.25052685 0.59354888 0.15592427]\n",
      " [0.11391722 0.44108797 0.4449948 ]\n",
      " [0.50293537 0.1928176  0.30424703]\n",
      " [0.60301116 0.24847596 0.14851288]\n",
      " [0.13060254 0.5674798  0.30191766]\n",
      " [0.42010799 0.29670725 0.28318476]\n",
      " [0.13399001 0.27830195 0.58770804]\n",
      " [0.35589333 0.44402851 0.20007816]\n",
      " [0.21589742 0.52847597 0.25562661]\n",
      " [0.60430325 0.20182399 0.19387276]\n",
      " [0.21168887 0.3979868  0.39032433]\n",
      " [0.42350591 0.29470578 0.28178831]\n",
      " [0.3514265  0.3889064  0.25966711]\n",
      " [0.25269778 0.46477712 0.28252509]\n",
      " [0.35472141 0.43120634 0.21407226]\n",
      " [0.1705398  0.41377723 0.41568297]\n",
      " [0.40999692 0.30074076 0.28926231]\n",
      " [0.38316363 0.18312102 0.43371535]\n",
      " [0.34997743 0.42506662 0.22495595]\n",
      " [0.29920978 0.33999643 0.36079379]\n",
      " [0.1182427  0.29347611 0.58828119]\n",
      " [0.3023547  0.34579438 0.35185092]\n",
      " [0.16613646 0.42903554 0.404828  ]\n",
      " [0.21601977 0.53168599 0.25229424]\n",
      " [0.420546   0.29728592 0.28216808]\n",
      " [0.23853607 0.25933206 0.50213187]\n",
      " [0.50705419 0.30496724 0.18797857]\n",
      " [0.44724769 0.27613057 0.27662174]\n",
      " [0.23384313 0.38400704 0.38214983]\n",
      " [0.26360524 0.46300837 0.27338639]\n",
      " [0.17744445 0.65020536 0.1723502 ]\n",
      " [0.46751304 0.21853726 0.31394969]\n",
      " [0.16822142 0.29624862 0.53552997]\n",
      " [0.30149816 0.49947907 0.19902277]\n",
      " [0.24649099 0.25017309 0.50333592]\n",
      " [0.08889054 0.45555715 0.45555231]\n",
      " [0.56363988 0.15029587 0.28606425]\n",
      " [0.22656261 0.24410539 0.529332  ]\n",
      " [0.3067382  0.48537188 0.20788992]\n",
      " [0.27953185 0.28264643 0.43782172]\n",
      " [0.20391296 0.48467826 0.31140879]\n",
      " [0.18201891 0.30079773 0.51718336]\n",
      " [0.25532516 0.25508061 0.48959423]\n",
      " [0.48769055 0.25660883 0.25570062]\n",
      " [0.39819294 0.40317191 0.19863515]\n",
      " [0.14749329 0.77687048 0.07563623]\n",
      " [0.22735732 0.54067718 0.2319655 ]\n",
      " [0.18541999 0.40783418 0.40674582]\n",
      " [0.17747708 0.41023186 0.41229105]\n",
      " [0.23374714 0.24192258 0.52433028]\n",
      " [0.31983141 0.34117578 0.33899281]\n",
      " [0.22728509 0.54130564 0.23140927]\n",
      " [0.01889457 0.25692986 0.72417557]\n",
      " [0.100999   0.45100791 0.44799309]\n",
      " [0.22782516 0.38735019 0.38482465]\n",
      " [0.19815624 0.60342751 0.19841625]\n",
      " [0.08698201 0.61120537 0.30181262]\n",
      " [0.14446853 0.28185329 0.57367818]\n",
      " [1.         0.         0.        ]\n",
      " [1.         0.         0.        ]\n",
      " [1.         0.         0.        ]\n",
      " [1.         0.         0.        ]\n",
      " [1.         0.         0.        ]\n",
      " [1.         0.         0.        ]\n",
      " [1.         0.         0.        ]\n",
      " [1.         0.         0.        ]\n",
      " [1.         0.         0.        ]\n",
      " [1.         0.         0.        ]\n",
      " [1.         0.         0.        ]\n",
      " [1.         0.         0.        ]\n",
      " [1.         0.         0.        ]\n",
      " [1.         0.         0.        ]\n",
      " [1.         0.         0.        ]\n",
      " [1.         0.         0.        ]\n",
      " [1.         0.         0.        ]\n",
      " [1.         0.         0.        ]\n",
      " [1.         0.         0.        ]\n",
      " [1.         0.         0.        ]\n",
      " [1.         0.         0.        ]\n",
      " [1.         0.         0.        ]\n",
      " [1.         0.         0.        ]\n",
      " [1.         0.         0.        ]\n",
      " [1.         0.         0.        ]\n",
      " [1.         0.         0.        ]\n",
      " [1.         0.         0.        ]\n",
      " [1.         0.         0.        ]\n",
      " [1.         0.         0.        ]\n",
      " [1.         0.         0.        ]\n",
      " [1.         0.         0.        ]\n",
      " [1.         0.         0.        ]\n",
      " [1.         0.         0.        ]\n",
      " [1.         0.         0.        ]\n",
      " [1.         0.         0.        ]\n",
      " [1.         0.         0.        ]\n",
      " [1.         0.         0.        ]\n",
      " [1.         0.         0.        ]\n",
      " [1.         0.         0.        ]\n",
      " [1.         0.         0.        ]\n",
      " [1.         0.         0.        ]\n",
      " [1.         0.         0.        ]\n",
      " [1.         0.         0.        ]\n",
      " [1.         0.         0.        ]\n",
      " [1.         0.         0.        ]\n",
      " [1.         0.         0.        ]\n",
      " [1.         0.         0.        ]\n",
      " [1.         0.         0.        ]\n",
      " [1.         0.         0.        ]\n",
      " [1.         0.         0.        ]\n",
      " [1.         0.         0.        ]\n",
      " [1.         0.         0.        ]\n",
      " [1.         0.         0.        ]\n",
      " [1.         0.         0.        ]\n",
      " [1.         0.         0.        ]\n",
      " [1.         0.         0.        ]\n",
      " [1.         0.         0.        ]\n",
      " [1.         0.         0.        ]\n",
      " [1.         0.         0.        ]\n",
      " [1.         0.         0.        ]\n",
      " [1.         0.         0.        ]\n",
      " [1.         0.         0.        ]\n",
      " [1.         0.         0.        ]\n",
      " [1.         0.         0.        ]\n",
      " [0.         0.5        0.5       ]]\n"
     ]
    }
   ],
   "source": [
    "_,_,hist = Simulate(1,E,policy,sta,beta,gamma,eta)\n",
    "print(policy)"
   ]
  },
  {
   "cell_type": "markdown",
   "metadata": {},
   "source": [
    "## Plot End Nodes Visited"
   ]
  },
  {
   "cell_type": "code",
   "execution_count": 139,
   "metadata": {},
   "outputs": [
    {
     "data": {
      "text/plain": [
       "(1, 5000)"
      ]
     },
     "execution_count": 139,
     "metadata": {},
     "output_type": "execute_result"
    },
    {
     "data": {
      "image/png": "[encoded data removed]",
      "text/plain": [
       "<Figure size 640x480 with 1 Axes>"
      ]
     },
     "metadata": {},
     "output_type": "display_data"
    }
   ],
   "source": [
    "le=6 # end nodes level\n",
    "\n",
    "# PLOT OPTIMAL\n",
    "x=[1,2,4,6,8,10,12,16,20,24,28,32,40,48,56,64]\n",
    "y=[1,2,4,6,8,10,12,16,20,24,28,32,40,48,56,64] \n",
    "fig, ax = plt.subplots()\n",
    "ax.set_xscale('log')\n",
    "ax.plot(x,y,'-b',label='optimal')\n",
    "\n",
    "# PLOT UNREWARDED MICE\n",
    "for i,nickname in enumerate(UnrewNamesSub):\n",
    "    with open('outdata/'+nickname+'-Modes1', 'rb') as f:\n",
    "        nn1,nf1,tr1,wcn=pickle.load(f)\n",
    "    x=wcn[1,:]\n",
    "    y=wcn[2,:]\n",
    "    ax.plot(x,y,'-c',linewidth=1)\n",
    "plt.plot([], [], 'c', label=\"mice\")\n",
    "\n",
    "# PLOT SIMULATION\n",
    "fhist = FlattenBHist(bhist) # flattened bhist\n",
    "color = cm.rainbow(np.linspace(0, 1, len(betas)))\n",
    "\n",
    "for i,row in enumerate(fhist):\n",
    "    wcn = NewNodes(row,le)\n",
    "    x=wcn[1]\n",
    "    y=wcn[2]\n",
    "    ax.plot(x,y,c=color[i], label='beta=' + str(bhist[i,0]))\n",
    "    \n",
    "# PLOT RANDOM\n",
    "tf=LoadTraj('rw01-tf')\n",
    "wcn=NewNodesMerge3(tf,ma,le)\n",
    "x=wcn[1,:]\n",
    "y=wcn[2,:]\n",
    "ax.plot(x,y,'--k', linewidth=1.5,label='random')\n",
    "\n",
    "ax.legend()\n",
    "ax.set_xlabel('End node visited')\n",
    "ax.set_ylabel('New end node found')\n",
    "ax.set_xlim([1,5000])\n"
   ]
  },
  {
   "cell_type": "markdown",
   "metadata": {},
   "source": [
    "# Cross-Entropy"
   ]
  },
  {
   "cell_type": "markdown",
   "metadata": {},
   "source": [
    "## Calculate cross-entropy for each unrewarded mouse"
   ]
  },
  {
   "cell_type": "code",
   "execution_count": 140,
   "metadata": {},
   "outputs": [],
   "source": [
    "eta=0.1\n",
    "gamma=0.1\n",
    "beta=100\n",
    "nbouts=100\n",
    "\n",
    "E,policy,sta = Init(beta)\n",
    "E,policy,hist = Simulate(nbouts,E,policy,sta,beta,gamma,eta)"
   ]
  },
  {
   "cell_type": "code",
   "execution_count": 141,
   "metadata": {},
   "outputs": [],
   "source": [
    "rew = False\n",
    "\n",
    "unrew_ce = []\n",
    "for nickname in UnrewNamesSub:\n",
    "    tf=LoadTraj(nickname+'-tf')\n",
    "    ex=ModeMask(tf,ma,rew) # one array for each bout marking states with mode = 0,1,2\n",
    "    dte=np.concatenate([b[:-2,0] for b in tf.no[i::1]]) # test states\n",
    "    mte=np.array([False]+[True,]*(len(dte)-1)) # mask for testing, all actions OK except first\n",
    "    mte[np.where(dte[:-1]>62)[0]]=False # mask for testing, eliminate end nodes\n",
    "    ce = CalculateCrossEntropy(dte,mte,policy,sta,ma)\n",
    "    unrew_ce.append(ce)"
   ]
  },
  {
   "cell_type": "markdown",
   "metadata": {},
   "source": [
    "## Plot Cross-Entropy"
   ]
  },
  {
   "cell_type": "code",
   "execution_count": 142,
   "metadata": {},
   "outputs": [],
   "source": [
    "with open('outdata/Markov3-TJ1-EX1-Split5-LevelsLR', 'rb') as f:\n",
    "    Names,ef,hf,ev,hv,eft,hft,evt,hvt=pickle.load(f) "
   ]
  },
  {
   "cell_type": "code",
   "execution_count": 143,
   "metadata": {},
   "outputs": [],
   "source": [
    "all_ce = []\n",
    "for _,name in enumerate(Names):\n",
    "    if name not in UnrewNamesSub:\n",
    "        all_ce.append(0)\n",
    "    else:\n",
    "        all_ce.append(unrew_ce[UnrewNamesSub.index(name)])"
   ]
  },
  {
   "cell_type": "code",
   "execution_count": 144,
   "metadata": {},
   "outputs": [
    {
     "name": "stdout",
     "output_type": "stream",
     "text": [
      "Entropy from Markov fits and 4-bias walk\n",
      "Restricted to T-junctions and exploration mode\n",
      "Markov fits pool over L vs R nodes in each level\n",
      "   fixed Markov  variable Markov  4-bias walk        Model\n",
      "B1:    1.250           1.243          1.414          0.000\n",
      "B2:    1.277           1.267          1.470          0.000\n",
      "B3:    1.222           1.214          1.422          0.000\n",
      "B4:    1.262           1.231          1.495          0.000\n",
      "C1:    1.220           1.210          1.446          0.000\n",
      "C3:    1.183           1.168          1.436          0.000\n",
      "C6:    1.196           1.191          1.379          0.000\n",
      "C7:    1.234           1.218          1.444          0.000\n",
      "C8:    1.211           1.191          1.489          0.000\n",
      "C9:    1.238           1.229          1.460          0.000\n",
      "B5:    1.294           1.278          1.458          1.608\n",
      "B6:    1.270           1.259          1.491          1.619\n",
      "B7:    1.286           1.267          1.486          1.612\n",
      "D3:    1.286           1.275          1.437          1.614\n",
      "D4:    1.244           1.239          1.430          1.611\n",
      "D5:    1.293           1.279          1.480          1.611\n",
      "D7:    1.203           1.197          1.459          1.611\n",
      "D8:    1.278           1.261          1.484          1.606\n",
      "D9:    1.316           1.295          1.510          1.612\n",
      "------------------------------------------------------------\n",
      "Av:    1.251           1.238          1.457          1.612\n",
      "SD:    0.037           0.035          0.032          0.003\n"
     ]
    }
   ],
   "source": [
    "# Table of entropies from all methods for TJs and exploration\n",
    "with open('outdata/BZentropies', 'rb') as f:\n",
    "    _,en=pickle.load(f)  \n",
    "with open('outdata/FixEntropies-TJ1-EX1-Split5-LevelsLR', 'rb') as f:\n",
    "    _,ef=pickle.load(f)  \n",
    "with open('outdata/VarEntropies-TJ1-EX1-Split5-LevelsLR', 'rb') as f:\n",
    "    _,ev=pickle.load(f)  \n",
    "with open('outdata/FourBiasEntropies-TJ1-EX1-Split5', 'rb') as f:\n",
    "    _,eb=pickle.load(f) \n",
    "    \n",
    "print('Entropy from Markov fits and 4-bias walk')\n",
    "print('Restricted to T-junctions and exploration mode')\n",
    "print('Markov fits pool over L vs R nodes in each level')\n",
    "print('   fixed Markov  variable Markov  4-bias walk        Model')\n",
    "for i in range(len(Names)):\n",
    "    print(Names[i]+':    {:5.3f}           {:5.3f}          {:5.3f}          {:5.3f}'.\n",
    "          format(ef[i],ev[i],eb[i],all_ce[i]))\n",
    "print('------------------------------------------------------------')\n",
    "print('Av:    {:5.3f}           {:5.3f}          {:5.3f}          {:5.3f}'.\n",
    "      format(np.mean(ef),np.mean(ev),np.mean(eb),np.mean(unrew_ce)))\n",
    "print('SD:    {:5.3f}           {:5.3f}          {:5.3f}          {:5.3f}'.\n",
    "      format(np.std(ef),np.std(ev),np.std(eb),np.std(unrew_ce)))"
   ]
  },
  {
   "cell_type": "code",
   "execution_count": 145,
   "metadata": {},
   "outputs": [
    {
     "name": "stdout",
     "output_type": "stream",
     "text": [
      "Limited to T-junctions during exploration, includes L vs R node pooling\n"
     ]
    },
    {
     "data": {
      "image/png": "[encoded data removed]",
      "text/plain": [
       "<Figure size 600x350 with 1 Axes>"
      ]
     },
     "metadata": {},
     "output_type": "display_data"
    }
   ],
   "source": [
    "k=len(RewNames)\n",
    "RN=np.array(RewNames)\n",
    "UN=np.array(UnrewNamesSub)\n",
    "ev=np.array(ev);ef=np.array(ef);eb=np.array(eb);en=np.array(en);ace=np.array(all_ce)\n",
    "evr=ev[:k];efr=ef[:k];ebr=eb[:k];enr=en[:k]\n",
    "evu=ev[k:];efu=ef[k:];ebu=eb[k:];enu=en[k:];aceu=ace[k:]\n",
    "sir=np.argsort(evr)\n",
    "siu=np.argsort(evu)\n",
    "print('Limited to T-junctions during exploration, includes L vs R node pooling')\n",
    "ax=plot(np.arange(len(UN)),[evu[siu],efu[siu],ebu[siu],aceu[siu]],\n",
    "    fmts=['r_','g_','b_','y_'],markersize=6,markeredgewidth=3,\n",
    "       figsize=(6,3.5),xlabel='unrewarded',ylabel='Cross-entropy (bits/action)');\n",
    "plot([-0.5,len(UN)+1.5],[np.log(3)/np.log(2),np.log(3)/np.log(2)],\n",
    "    fmts=['k:'],linewidth=1,ylim=[1.05,2.1],axes=ax);\n",
    "plt.legend(['Markov variable','Markov fixed','Biased walk','Model','Random walk'],loc='lower right',ncol=2)\n",
    "plt.xticks(list(np.arange(len(UN))),list(UN[siu]));"
   ]
  }
 ],
 "metadata": {
  "kernelspec": {
   "display_name": "Python 3 (ipykernel)",
   "language": "python",
   "name": "python3"
  },
  "language_info": {
   "codemirror_mode": {
    "name": "ipython",
    "version": 3
   },
   "file_extension": ".py",
   "mimetype": "text/x-python",
   "name": "python",
   "nbconvert_exporter": "python",
   "pygments_lexer": "ipython3",
   "version": "3.10.9"
  },
  "toc": {
   "base_numbering": 1,
   "nav_menu": {},
   "number_sections": true,
   "sideBar": true,
   "skip_h1_title": false,
   "title_cell": "Table of Contents",
   "title_sidebar": "Contents",
   "toc_cell": true,
   "toc_position": {
    "height": "calc(100% - 180px)",
    "left": "10px",
    "top": "150px",
    "width": "345.6px"
   },
   "toc_section_display": true,
   "toc_window_display": true
  }
 },
 "nbformat": 4,
 "nbformat_minor": 2
}
